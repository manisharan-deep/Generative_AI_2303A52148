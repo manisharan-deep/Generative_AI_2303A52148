{
  "nbformat": 4,
  "nbformat_minor": 0,
  "metadata": {
    "colab": {
      "provenance": [],
      "authorship_tag": "ABX9TyOCEVIa/j774JpTpdTGnBL8",
      "include_colab_link": true
    },
    "kernelspec": {
      "name": "python3",
      "display_name": "Python 3"
    },
    "language_info": {
      "name": "python"
    }
  },
  "cells": [
    {
      "cell_type": "markdown",
      "metadata": {
        "id": "view-in-github",
        "colab_type": "text"
      },
      "source": [
        "<a href=\"https://colab.research.google.com/github/manisharan-deep/Generative_AI_2303A52148/blob/main/G_AI_1.ipynb\" target=\"_parent\"><img src=\"https://colab.research.google.com/assets/colab-badge.svg\" alt=\"Open In Colab\"/></a>"
      ]
    },
    {
      "cell_type": "code",
      "execution_count": 2,
      "metadata": {
        "colab": {
          "base_uri": "https://localhost:8080/"
        },
        "id": "2sXea4J4GjMC",
        "outputId": "fa74edfb-4c40-4c84-dfaf-a96d9f891ec5"
      },
      "outputs": [
        {
          "output_type": "stream",
          "name": "stdout",
          "text": [
            "Requirement already satisfied: scikit-learn in /usr/local/lib/python3.11/dist-packages (1.6.0)\n",
            "Collecting scikit-learn\n",
            "  Downloading scikit_learn-1.6.1-cp311-cp311-manylinux_2_17_x86_64.manylinux2014_x86_64.whl.metadata (18 kB)\n",
            "Requirement already satisfied: numpy>=1.19.5 in /usr/local/lib/python3.11/dist-packages (from scikit-learn) (1.26.4)\n",
            "Requirement already satisfied: scipy>=1.6.0 in /usr/local/lib/python3.11/dist-packages (from scikit-learn) (1.13.1)\n",
            "Requirement already satisfied: joblib>=1.2.0 in /usr/local/lib/python3.11/dist-packages (from scikit-learn) (1.4.2)\n",
            "Requirement already satisfied: threadpoolctl>=3.1.0 in /usr/local/lib/python3.11/dist-packages (from scikit-learn) (3.5.0)\n",
            "Downloading scikit_learn-1.6.1-cp311-cp311-manylinux_2_17_x86_64.manylinux2014_x86_64.whl (13.5 MB)\n",
            "\u001b[2K   \u001b[90m━━━━━━━━━━━━━━━━━━━━━━━━━━━━━━━━━━━━━━━━\u001b[0m \u001b[32m13.5/13.5 MB\u001b[0m \u001b[31m90.5 MB/s\u001b[0m eta \u001b[36m0:00:00\u001b[0m\n",
            "\u001b[?25hInstalling collected packages: scikit-learn\n",
            "  Attempting uninstall: scikit-learn\n",
            "    Found existing installation: scikit-learn 1.6.0\n",
            "    Uninstalling scikit-learn-1.6.0:\n",
            "      Successfully uninstalled scikit-learn-1.6.0\n",
            "Successfully installed scikit-learn-1.6.1\n",
            "Library Metrics - MAE: 0.4600000000000016, MSE: 0.24600000000000147, RMSE: 0.49598387070549127\n"
          ]
        }
      ],
      "source": [
        "!pip install --upgrade scikit-learn\n",
        "\n",
        "# Library-based computation\n",
        "from sklearn.metrics import mean_absolute_error, mean_squared_error\n",
        "\n",
        "mae_lib = mean_absolute_error(y_actual, y_pred)\n",
        "mse_lib = mean_squared_error(y_actual, y_pred)\n",
        "# Calculate RMSE using numpy to maintain compatibility\n",
        "import numpy as np\n",
        "rmse_lib = np.sqrt(mse_lib)\n",
        "\n",
        "print(f\"Library Metrics - MAE: {mae_lib}, MSE: {mse_lib}, RMSE: {rmse_lib}\")"
      ]
    },
    {
      "cell_type": "code",
      "source": [
        "# Table 2: Multiclass classification metrics\n",
        "y_actual = [0, 0, 1, 1, 2, 0, 0, 1, 2, 2, 0, 2, 1, 0, 2, 2]\n",
        "y_pred = [0, 1, 1, 0, 2, 0, 1, 2, 2, 2, 1, 0, 2, 2, 2, 2]\n",
        "\n",
        "# Custom implementation of confusion matrix\n",
        "def confusion_matrix_multiclass(y_actual, y_pred, classes):\n",
        "    matrix = [[0] * classes for _ in range(classes)]\n",
        "    for a, p in zip(y_actual, y_pred):\n",
        "        matrix[a][p] += 1\n",
        "    return matrix\n",
        "\n",
        "# Custom metrics\n",
        "def calculate_metrics(conf_matrix):\n",
        "    classes = len(conf_matrix)\n",
        "    accuracy = sum(conf_matrix[i][i] for i in range(classes)) / sum(sum(row) for row in conf_matrix)\n",
        "    return accuracy\n",
        "\n",
        "classes = len(set(y_actual))\n",
        "conf_matrix = confusion_matrix_multiclass(y_actual, y_pred, classes)\n",
        "accuracy = calculate_metrics(conf_matrix)\n",
        "\n",
        "print(\"Custom Confusion Matrix:\")\n",
        "for row in conf_matrix:\n",
        "    print(row)\n",
        "print(f\"Custom Accuracy: {accuracy}\")\n",
        "\n",
        "# Library-based computation\n",
        "from sklearn.metrics import confusion_matrix, accuracy_score, classification_report\n",
        "\n",
        "conf_matrix_lib = confusion_matrix(y_actual, y_pred)\n",
        "accuracy_lib = accuracy_score(y_actual, y_pred)\n",
        "report_lib = classification_report(y_actual, y_pred)\n",
        "\n",
        "print(\"\\nLibrary Confusion Matrix:\")\n",
        "print(conf_matrix_lib)\n",
        "print(f\"Library Accuracy: {accuracy_lib}\")\n",
        "print(\"Classification Report:\")\n",
        "print(report_lib)\n"
      ],
      "metadata": {
        "colab": {
          "base_uri": "https://localhost:8080/"
        },
        "id": "9CpaiFXVHpbT",
        "outputId": "80453870-f1b6-49b8-ab39-b046f5761d93"
      },
      "execution_count": 3,
      "outputs": [
        {
          "output_type": "stream",
          "name": "stdout",
          "text": [
            "Custom Confusion Matrix:\n",
            "[2, 3, 1]\n",
            "[1, 1, 2]\n",
            "[1, 0, 5]\n",
            "Custom Accuracy: 0.5\n",
            "\n",
            "Library Confusion Matrix:\n",
            "[[2 3 1]\n",
            " [1 1 2]\n",
            " [1 0 5]]\n",
            "Library Accuracy: 0.5\n",
            "Classification Report:\n",
            "              precision    recall  f1-score   support\n",
            "\n",
            "           0       0.50      0.33      0.40         6\n",
            "           1       0.25      0.25      0.25         4\n",
            "           2       0.62      0.83      0.71         6\n",
            "\n",
            "    accuracy                           0.50        16\n",
            "   macro avg       0.46      0.47      0.45        16\n",
            "weighted avg       0.48      0.50      0.48        16\n",
            "\n"
          ]
        }
      ]
    }
  ]
}